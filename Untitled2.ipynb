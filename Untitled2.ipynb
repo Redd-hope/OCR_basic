{
 "cells": [
  {
   "cell_type": "code",
   "execution_count": 1,
   "id": "374ec5c5",
   "metadata": {},
   "outputs": [],
   "source": [
    "import pandas as pd\n",
    "from tensorflow.keras.datasets import mnist\n",
    "\n",
    "# Load MNIST data\n",
    "(x_train, y_train), (x_test, y_test) = mnist.load_data()\n",
    "\n",
    "# Reshape and normalize the data\n",
    "x_train = x_train.reshape(x_train.shape[0], -1) / 255.0\n",
    "x_test = x_test.reshape(x_test.shape[0], -1) / 255.0\n",
    "\n",
    "# Create dataframes\n",
    "train_df = pd.DataFrame(data=x_train, index=range(len(x_train)), columns=[f'pixel_{i}' for i in range(x_train.shape[1])])\n",
    "test_df = pd.DataFrame(data=x_test, index=range(len(x_test)), columns=[f'pixel_{i}' for i in range(x_test.shape[1])])\n",
    "\n",
    "# Add labels to dataframes\n",
    "train_df.insert(0, 'label', y_train)\n",
    "test_df.insert(0, 'label', y_test)\n",
    "\n",
    "# Save dataframes to CSV\n",
    "train_df.to_csv('mnist_train.csv', index=False)\n",
    "test_df.to_csv('mnist_test.csv', index=False)\n"
   ]
  },
  {
   "cell_type": "code",
   "execution_count": 2,
   "id": "22a55d08",
   "metadata": {},
   "outputs": [
    {
     "name": "stdout",
     "output_type": "stream",
     "text": [
      "Defaulting to user installation because normal site-packages is not writeableNote: you may need to restart the kernel to use updated packages.\n",
      "\n",
      "Collecting flask-cors\n",
      "  Downloading Flask_Cors-4.0.0-py2.py3-none-any.whl.metadata (5.4 kB)\n",
      "Requirement already satisfied: Flask>=0.9 in d:\\programdata\\anaconda3\\lib\\site-packages (from flask-cors) (2.2.2)\n",
      "Requirement already satisfied: Werkzeug>=2.2.2 in d:\\programdata\\anaconda3\\lib\\site-packages (from Flask>=0.9->flask-cors) (2.2.3)\n",
      "Requirement already satisfied: Jinja2>=3.0 in d:\\programdata\\anaconda3\\lib\\site-packages (from Flask>=0.9->flask-cors) (3.1.2)\n",
      "Requirement already satisfied: itsdangerous>=2.0 in d:\\programdata\\anaconda3\\lib\\site-packages (from Flask>=0.9->flask-cors) (2.0.1)\n",
      "Requirement already satisfied: click>=8.0 in d:\\programdata\\anaconda3\\lib\\site-packages (from Flask>=0.9->flask-cors) (8.0.4)\n",
      "Requirement already satisfied: colorama in d:\\programdata\\anaconda3\\lib\\site-packages (from click>=8.0->Flask>=0.9->flask-cors) (0.4.6)\n",
      "Requirement already satisfied: MarkupSafe>=2.0 in d:\\programdata\\anaconda3\\lib\\site-packages (from Jinja2>=3.0->Flask>=0.9->flask-cors) (2.1.1)\n",
      "Downloading Flask_Cors-4.0.0-py2.py3-none-any.whl (14 kB)\n",
      "Installing collected packages: flask-cors\n",
      "Successfully installed flask-cors-4.0.0\n"
     ]
    }
   ],
   "source": [
    "pip install flask-cors\n"
   ]
  },
  {
   "cell_type": "code",
   "execution_count": 3,
   "id": "cc94afca",
   "metadata": {},
   "outputs": [
    {
     "name": "stdout",
     "output_type": "stream",
     "text": [
      "Defaulting to user installation because normal site-packages is not writeable\n",
      "Requirement already satisfied: flask-cors in c:\\users\\winner\\appdata\\roaming\\python\\python311\\site-packages (4.0.0)\n",
      "Requirement already satisfied: Flask>=0.9 in d:\\programdata\\anaconda3\\lib\\site-packages (from flask-cors) (2.2.2)\n",
      "Requirement already satisfied: Werkzeug>=2.2.2 in d:\\programdata\\anaconda3\\lib\\site-packages (from Flask>=0.9->flask-cors) (2.2.3)\n",
      "Requirement already satisfied: Jinja2>=3.0 in d:\\programdata\\anaconda3\\lib\\site-packages (from Flask>=0.9->flask-cors) (3.1.2)\n",
      "Requirement already satisfied: itsdangerous>=2.0 in d:\\programdata\\anaconda3\\lib\\site-packages (from Flask>=0.9->flask-cors) (2.0.1)\n",
      "Requirement already satisfied: click>=8.0 in d:\\programdata\\anaconda3\\lib\\site-packages (from Flask>=0.9->flask-cors) (8.0.4)\n",
      "Requirement already satisfied: colorama in d:\\programdata\\anaconda3\\lib\\site-packages (from click>=8.0->Flask>=0.9->flask-cors) (0.4.6)\n",
      "Requirement already satisfied: MarkupSafe>=2.0 in d:\\programdata\\anaconda3\\lib\\site-packages (from Jinja2>=3.0->Flask>=0.9->flask-cors) (2.1.1)\n",
      "Note: you may need to restart the kernel to use updated packages.\n"
     ]
    }
   ],
   "source": [
    "pip install flask-cors\n"
   ]
  },
  {
   "cell_type": "code",
   "execution_count": 4,
   "id": "44bb63e8",
   "metadata": {},
   "outputs": [
    {
     "name": "stdout",
     "output_type": "stream",
     "text": [
      "Defaulting to user installation because normal site-packages is not writeable\n",
      "Requirement already satisfied: Pillow in d:\\programdata\\anaconda3\\lib\\site-packages (9.4.0)\n",
      "Note: you may need to restart the kernel to use updated packages.\n"
     ]
    }
   ],
   "source": [
    "pip install Pillow\n"
   ]
  },
  {
   "cell_type": "code",
   "execution_count": 15,
   "id": "cf157a1b",
   "metadata": {},
   "outputs": [],
   "source": [
    "from PIL import Image\n",
    "import io\n",
    "import base64\n",
    "\n",
    "# Your base64-encoded image data\n",
    "base64_data_whole = \"data:image/png;base64,iVBORw0KGgoAAAANSUhEUgAAAMgAAADICAYAAACtWK6eAAAAAXNSR0IArs4c6QAAELhJREFUeF7tXXn0tdUUfpJIhkQpU0lLIi0SPorQopIxKRUry5ghyVD6sMQilCFToYzLmKFaZKiWlSGEzDIPlSFDGROKWM+v9/5c97v3vnvv933vPe+7n/3Pt9b322d69nnuOe85++y9HiRCQAjMRGA9YSMEhMBsBEQQzQ4hMAcBEUTTQwiIIJoDQiCGgFaQGG4qlQQBESSJoTXMGAIiSAw3lUqCgAiSxNAaZgwBESSGm0olQUAESWJoDTOGgAgSw02lkiAggiQxtIYZQ0AEieGmUkkQEEGSGFrDjCEggsRwU6kkCIggSQytYcYQEEFiuKlUEgREkCSG1jBjCIggMdxUKgkCIkgSQ2uYMQREkBhuKpUEAREkiaE1zBgCIkgMN5VKgoAIksTQGmYMAREkhptKJUFABEliaA0zhoAIEsNNpZIgIIIkMbSGGUNABInhplJJEBBBkhhaw4whIILEcFOpJAiIIEkMrWHGEBBBYripVBIERJAkhtYwYwiIIDHcVCoJAiJIEkNrmDEERJAYbiqVBAERJImhNcwYAiJIDDeVSoKACJLE0BpmDAERJIabSiVBQARJYmgNM4aACBLDTaWSICCCJDG0hhlDQASJ4aZSSRAQQZIYWsOMISCCxHBTqSQIiCBJDK1hxhAQQWK4qVQSBESQJIbWMGMIiCAx3FQqCQIiSBJDa5gxBESQGG5NS50JYDcA69dUdBmANwM4vGmDKh9DQASJ4dak1G8AbO6s4EsAdnaWkXoLCIggLYDoqOIiALd06I+rctXZI1hWxYIIiCBB4ALFvgHgToFy40XeCODpDetQcQcCIogDrAaqxwN4aoPyIklL4HmrEUG8iMX0rwCwQazo1FJaSVoEc15VIkj3QJ8A4CkdNHMGgD07qFdVjiEggnQ/Hf4K4HodNXMWgN07qlvVAhBBup0GWwG4oNsm8CIAL+64jbTViyDdmv4jAB7ebRO4EsAWAP7QcTspqxdBujP7/QHw7sIqPOk6BMAbqn+t5ah3MoD9PQWka0NABLHh5NXiZSBvv29uLPhuAAeN6UZIsjeA04ztSc2IgAhiBMqp9l0A2zvK3ArAhRP6XpJwi3UbbbUcqBtURRADSE6VcwGscZT5C4CNZ+hzRXiooy5ttRxgWVRFEAtKdp3XAniGXX1Fk9668+5JvKuRtlpOA8xTF0HaA/NGAH4L4JqOKr8N4I41+qz3Z3NWmcniXJG21lbLYYU5qiJIOziyFm5v9nNUdz6AOxj1HwbgVKMu1b4JYEeHvlRnICCCtDM1eNfBOw+r/ArAPQD8wloAwAcAPNKhfySAYxz6Up2CgAjSfFpwC8R3Htd1VEX3ELqJeITt/BgA/7XI3wFsAuCfFmXpTEdABGk+M34IYFtHNTy+PdShP67q3Wq9AMDRwbZUTL5YjefAywCsddRCMm3n0J+m+kEA+xrr4CqyDYCLjfpSm0BAK0h8SmwE4FIAGxqr+BuALVs4XeIWi+/are9L3g/gQGMfpSaCtDYHXufcKu0D4JSWWue26XmOunYB8EWHvlQrBLSCxKbCfQCc7SjKbZHnBMpSNd3o6U5vkW9Vx77/sShL538IiCCx2UBHxLsbi/6rCvPTtjv67QDwlv0axn4cDOBEo67UtIKE58ARzvuF4wA8K9za/IKvd0Q5+WO14vCFo8SIgFYQI1CVGr1lf+D41eYv/A6+Jlza16+8gHnfYRF+Nx1mUZTO1QiIIL6ZcB6AnYxFuN+/bXW5ZywSUuPWiQ6PFrmqcm/5vkVZOiKIZw5wq+T59X0ugGM9DQR1+SPHoHR1To+j6n8O4NbBttIV0wpiMznvOv4M4Fo2dfBNCH2tFiU8xj3H0dgLAbzEoZ9WVQSxmf75AF5qU13Rui+Azzj021DlhaD1XfrllU+X/LRqkBdB6qfmpgC4LbHGtuLJkvfRVH0v6jX4/p3OjNepV13RkJ+WASgRpB6kNwF4cr3aisY/ANwYAH+hlyGc9Natk/y0DBYSQeaDxFOo7zmOdZcdM/faAHjfYV1F5KelLZbhZ2K2yukAHmisgY6L3I4tW44CVqItWkV+WnOQ0goyGxyvv9UyPsxn9Z7fTAwlZBH5aYkglnmyjs4l1feEpTBXmgdbFBekIz+tloDWCjIdSH5LPM2IMW+nbw+Aj6FKEvlptWANEWQ6iPS8tfo38ZSrrexRLZh0tQr5abWApgiyLoielAU8KqX+71uwRRdVyE+rIapDJwifmnKS0O1j/Ikq3UbeMyOKOv2t6HdlEd6w8116qeL10/pR5WBZ6ngW3q8hE+RVAJ5dgyjfdt90QuezAHY1WIJuGjesLgcN6ktT8fppMYsuv8EkA3Z358rxXqOF/zT2veHZXr0dwOONbSxbzeOn9WtH2oZlj6vz9oe6glhXgRHAfBb7FgA/cWyvpqUs6NxgwQa8flr0O2MUlvQyVILQJ4puF165zOiU+DkA9/ZWvmR9j58W73R4t5NeRJDYFHgmAKY66JPwB4PbSUscLz3NrSw7VIJ4t1jeid6n7dX42N41kept1rj57p638ellqATxfKR7J0Eft1ejMd4VwFeMA2YUSE/0eWO1/VIbKkFoBcsxb1NrMVkNT8tKvEmfNjbam14CPJ6ukycAeFud0tD/PmSC0HZcSRjxg24XXQqjnfDXuQ9iDX7dRTTIPuDzf30cOkFGg+XFF18Frt+hhfqS1Ykrw0kGHPhBz0DZqcOVZiHIaD58AcDOhskRVWGOQt7eWy8po+00Kccc7kz4YxGuilwd00o2gtDQXwNw5wVZnGE+6fNV2jcKT6n4nLhOlv2EuK5/nf89I0EIKg3P1MvWwM9NDUFS3qVpJS2Wt74VGXfDabH5/lSVlSAjC50J4H4L8kmry4e+yFnDm/KPGhtkFEY+4U0p2QlCo38ZwN0WYP1/V06A/E5ZttDXyhrl/eXOZD3LHlur7WcnCCcK7zIWhQODRvN5bgnyOwCbGTryyyp1XMrTrEVNDIMdlqLyAACfWHDLbM8aSqjLrr0CAANsW2QPANyOppPsBOFxrCXBJd0z1lSzo41TsFcDeM6SZxvzujPInCUZaNoAc9kJwqe3NzBM1GMAHDmmd0Ll9MdJFpUSSGJ9SMX3MnRPSfdGJDNBbgLA+sG8F4BPTmHCowBwom8eZMmyt1vcOn3K2Hf6ZfEWPpVkJsiTqleEFoPTl4uPqWbJ8QAeAyCyovDDnVEZrWS19NeqQ/vzVv0WhgJ0cmRg7lSSmSD89eZHep14Jgaf7ZJ4XuERMP2jeHm5aOEx7vj2cVb7PMVa1MXqojGY2V5WgjD6OW+JLRmjOOmt6Q8ItCeP4aRhePTKjLiL9OXapnqLb5mU6eZLugFXs2A/ACdbZgSArQFcYNQdqVlXp1nV8mOYr/+s4U+d3VtH3XrHkW6+pBtwNTXeB+AAw6xibpDtDXrTVNp4sNV1GulRv0WQGUbOSBC+CeF3heV4l1ETGT0xKm2QhH5Q+1ZeyNF+1JUTQUSQVQR2B3BG3Yyp/k4fra8adWepNd1ujerllpCE/U4Hj5hEEBFkFQFe8llOiy4GcLOG5BgVb/LhPq0L/Jiny/rRLfVPBBFBVhFgaM3JeLzT4CGR2vxI5mkYQ5W2+eyXK+GeLZBEBBFBVhDglonu7RbhVuwsi6JDhzfujNllec1nrbYNPykrQbZY0oWmFYvW9bJ9pHMPv9aAIl3gGbCAF3hdCF808ubdmnu9rg9N/bqsBEkXUC4bQXhsa4kYyGNg+ll1LWzjNQDoF9ZUmpDEShD2kW41hzTtbF/KZyIIw4Van47yIvFDCzQiHQEf10J7vIF/dKAeq1czq+bqunGgjV4WyUSQtxrzeVxRuXYzvdoiZafKxaTp98k5AO7l7LgnaSmrTjNv0gy0eoNt2fN/HMCDnBOsTfXPA7hnwwr5wIvpGZgGwirW7acIYkW0R3r8RWXQaYvQG9cSedBSV1SHuTwONb4Zn9XG16vc7TzWtghP2JiSziJpflizDNQaj5aTgx/MpWStpX12qHKR8M2IV3ihyNXQ6g1g/VjPMm9S7CX5y8hfUctbhksBbOqdhQvSj/p1XVm9UXmnoZ8iyARIGX4JrHcfhKapc6JhDjZSiZKEjTJrFOMGz7vbEUGSEYRpx7h68NKvTnhqtQkApncuWayu+tPG8OnKM5jRTKaJCJKMILxbsCaBKX31GDcdA0hEfbB+Wn2X8FZ8UkSQZASxHl1eVXnuLiNwQnS14nbrsKDzI7dZxwE4fKJxESQRQTxHu7w15+1534RhTPneZKtgx88GsNtYWREkEUE46R9hnDgkE2+g+ygM6HZag7zt3GrRPYURI0WQJATxHO2WFFA6SlC+MaHTIy8Xo8IfFD7ttUiG088VHIY6UM/RLj/k32GZFT3QeWzlBdDmo6xpwx7qvFlnrEMcKI92GfNqQ8OEZvAGPqst/WjXMJRVFeZgPLUlF/pZ7Q5x3kwd6xAH+kpH5PQ+He16SELSnw5gR08hh+4Q500agtBdxHIx2MejXcccXllB+by3i+xZIojHEgXpeiK29/Vo1ws3T+d28Raq0RdBWgZ0UdU9EcCJxsb6fLRrHOKq2hEAmOOkLRFB2kJywfV8zPjYiakMmNIgk/DFIv24tm1h0CJICyAuuoqNqpRiXURsX/RYumzv3LF0ctF2RJAocksstzeAU4zt00WDF4RZ5agqzYIlPvE0jESQHs4cPghirKk6YSoDpjSQXH0HdGz1NNdDFhGkZ7OHBuMzWUuKMHrBTnqx9my4nXVXvlgT0A7ll2DX6szfMnOoy8ghknUREEEGShDrU1ReIm7m8FrNRiIRZKAEYcRERk6sE36n0KFPMh0BEWSABOGJ1PnGGc+TLr6dkIggpjkwhG8QJrs8yDBahhRlUIbLDbpZVbSCDHAFucR4esVb9odknfnGcYsgAyPIBtVbDstKSD8tBrCWzEZABBkYQdYAoOuERUoKKWrp7zJ0+ASg7seGJLJEqVxG/1tvsw6M1htsuUKGvWH4mjph/gsGN5DMR4DuN9vVgJQqy1TfCcLUyJZwPdTbX+yoReDAKkfJPEVmxaJXcArpO0EuBLClwVL7OBwZDdUNWmXepWuTNG+9BK3PBGEUdmuaAt6e87RLYkOAK8nBY27xzAzMNNZpVo4RTH0mCFeFDxvsfVGDyIOG6qUyZAT6TBCmStvLYBx9fxhAksp0BPpMEGtmVp50MTeGRAi4EegzQSxn9gSEdyVMaikRAm4E+kwQ660v36gzDZlECLgR6DNBmCWp7vKPp1y8QZcIgRACfSaI5ZEU0ykfHUJGhYSAwe+mdJDOA8B4T9OEacosp1ylj1H9WyICfV5BCBv7fxKAAwAwLhaFz2r5f2uXiKuaHggCfSfIQMygYZSKgAhSqmXUryIQEEGKMIM6USoCIkipllG/ikBABCnCDOpEqQiIIKVaRv0qAgERpAgzqBOlIiCClGoZ9asIBESQIsygTpSKgAhSqmXUryIQEEGKMIM6USoCIkipllG/ikBABCnCDOpEqQiIIKVaRv0qAgERpAgzqBOlIiCClGoZ9asIBESQIsygTpSKgAhSqmXUryIQEEGKMIM6USoCIkipllG/ikBABCnCDOpEqQiIIKVaRv0qAgERpAgzqBOlIiCClGoZ9asIBESQIsygTpSKgAhSqmXUryIQEEGKMIM6USoCIkipllG/ikBABCnCDOpEqQj8FxC8B+cYneqZAAAAAElFTkSuQmCC\"\n",
    "base64_string = base64_data_whole.split(',')\n",
    "#print(base64_data[1])\n",
    "\n",
    "\n",
    "binary_data = base64.b64decode(base64_string[1])\n",
    "image = Image.open(io.BytesIO(binary_data))\n"
   ]
  },
  {
   "cell_type": "code",
   "execution_count": 18,
   "id": "267f565f",
   "metadata": {},
   "outputs": [
    {
     "ename": "TypeError",
     "evalue": "argument should be a bytes-like object or ASCII string, not 'PngImageFile'",
     "output_type": "error",
     "traceback": [
      "\u001b[1;31m---------------------------------------------------------------------------\u001b[0m",
      "\u001b[1;31mTypeError\u001b[0m                                 Traceback (most recent call last)",
      "Cell \u001b[1;32mIn[18], line 7\u001b[0m\n\u001b[0;32m      4\u001b[0m \u001b[38;5;28;01mimport\u001b[39;00m \u001b[38;5;21;01mbase64\u001b[39;00m\n\u001b[0;32m      6\u001b[0m \u001b[38;5;66;03m# Assuming 'image' is a base64-encoded string\u001b[39;00m\n\u001b[1;32m----> 7\u001b[0m image_data \u001b[38;5;241m=\u001b[39m base64\u001b[38;5;241m.\u001b[39mb64decode(image)\n\u001b[0;32m      9\u001b[0m img \u001b[38;5;241m=\u001b[39m Image\u001b[38;5;241m.\u001b[39mopen(BytesIO(image_data))\u001b[38;5;241m.\u001b[39mconvert(\u001b[38;5;124m'\u001b[39m\u001b[38;5;124mL\u001b[39m\u001b[38;5;124m'\u001b[39m)\n\u001b[0;32m     10\u001b[0m image_array \u001b[38;5;241m=\u001b[39m np\u001b[38;5;241m.\u001b[39marray(img)\n",
      "File \u001b[1;32mD:\\ProgramData\\anaconda3\\Lib\\base64.py:83\u001b[0m, in \u001b[0;36mb64decode\u001b[1;34m(s, altchars, validate)\u001b[0m\n\u001b[0;32m     65\u001b[0m \u001b[38;5;28;01mdef\u001b[39;00m \u001b[38;5;21mb64decode\u001b[39m(s, altchars\u001b[38;5;241m=\u001b[39m\u001b[38;5;28;01mNone\u001b[39;00m, validate\u001b[38;5;241m=\u001b[39m\u001b[38;5;28;01mFalse\u001b[39;00m):\n\u001b[0;32m     66\u001b[0m \u001b[38;5;250m    \u001b[39m\u001b[38;5;124;03m\"\"\"Decode the Base64 encoded bytes-like object or ASCII string s.\u001b[39;00m\n\u001b[0;32m     67\u001b[0m \n\u001b[0;32m     68\u001b[0m \u001b[38;5;124;03m    Optional altchars must be a bytes-like object or ASCII string of length 2\u001b[39;00m\n\u001b[1;32m   (...)\u001b[0m\n\u001b[0;32m     81\u001b[0m \u001b[38;5;124;03m    https://docs.python.org/3.11/library/binascii.html#binascii.a2b_base64\u001b[39;00m\n\u001b[0;32m     82\u001b[0m \u001b[38;5;124;03m    \"\"\"\u001b[39;00m\n\u001b[1;32m---> 83\u001b[0m     s \u001b[38;5;241m=\u001b[39m _bytes_from_decode_data(s)\n\u001b[0;32m     84\u001b[0m     \u001b[38;5;28;01mif\u001b[39;00m altchars \u001b[38;5;129;01mis\u001b[39;00m \u001b[38;5;129;01mnot\u001b[39;00m \u001b[38;5;28;01mNone\u001b[39;00m:\n\u001b[0;32m     85\u001b[0m         altchars \u001b[38;5;241m=\u001b[39m _bytes_from_decode_data(altchars)\n",
      "File \u001b[1;32mD:\\ProgramData\\anaconda3\\Lib\\base64.py:45\u001b[0m, in \u001b[0;36m_bytes_from_decode_data\u001b[1;34m(s)\u001b[0m\n\u001b[0;32m     43\u001b[0m     \u001b[38;5;28;01mreturn\u001b[39;00m \u001b[38;5;28mmemoryview\u001b[39m(s)\u001b[38;5;241m.\u001b[39mtobytes()\n\u001b[0;32m     44\u001b[0m \u001b[38;5;28;01mexcept\u001b[39;00m \u001b[38;5;167;01mTypeError\u001b[39;00m:\n\u001b[1;32m---> 45\u001b[0m     \u001b[38;5;28;01mraise\u001b[39;00m \u001b[38;5;167;01mTypeError\u001b[39;00m(\u001b[38;5;124m\"\u001b[39m\u001b[38;5;124margument should be a bytes-like object or ASCII \u001b[39m\u001b[38;5;124m\"\u001b[39m\n\u001b[0;32m     46\u001b[0m                     \u001b[38;5;124m\"\u001b[39m\u001b[38;5;124mstring, not \u001b[39m\u001b[38;5;132;01m%r\u001b[39;00m\u001b[38;5;124m\"\u001b[39m \u001b[38;5;241m%\u001b[39m s\u001b[38;5;241m.\u001b[39m\u001b[38;5;18m__class__\u001b[39m\u001b[38;5;241m.\u001b[39m\u001b[38;5;18m__name__\u001b[39m) \u001b[38;5;28;01mfrom\u001b[39;00m \u001b[38;5;28;01mNone\u001b[39;00m\n",
      "\u001b[1;31mTypeError\u001b[0m: argument should be a bytes-like object or ASCII string, not 'PngImageFile'"
     ]
    }
   ],
   "source": [
    "import numpy as np\n",
    "from PIL import Image\n",
    "from io import BytesIO\n",
    "import base64\n",
    "\n",
    "# Assuming 'image' is a base64-encoded string\n",
    "image_data = base64.b64decode(image)\n",
    "\n",
    "img = Image.open(BytesIO(image_data)).convert('L')\n",
    "image_array = np.array(img)\n",
    "\n",
    "print(image_array.shape, image_array)\n"
   ]
  },
  {
   "cell_type": "code",
   "execution_count": null,
   "id": "e0f43a58",
   "metadata": {},
   "outputs": [],
   "source": [
    "image_size=28\n",
    "x_train_resized =np.array(x_train).reshape(-1,image_size,image_size,1)"
   ]
  }
 ],
 "metadata": {
  "kernelspec": {
   "display_name": "Python 3 (ipykernel)",
   "language": "python",
   "name": "python3"
  },
  "language_info": {
   "codemirror_mode": {
    "name": "ipython",
    "version": 3
   },
   "file_extension": ".py",
   "mimetype": "text/x-python",
   "name": "python",
   "nbconvert_exporter": "python",
   "pygments_lexer": "ipython3",
   "version": "3.11.4"
  }
 },
 "nbformat": 4,
 "nbformat_minor": 5
}
